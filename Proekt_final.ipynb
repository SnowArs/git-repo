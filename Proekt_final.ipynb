{
 "cells": [
  {
   "cell_type": "markdown",
   "metadata": {},
   "source": [
    "В данном задании пытался предсказать стоимость индекса ММВБ на основе 5 летних исторических данных по сырой нефти BRENT и USD относительно рубля (стоимость на момент закрытия, внутридневные объемы). Месяц август 2019 был взят как предсказанный период и в обучающей выборке отсутствовал. Если честно, то результаты не порадовали, возможно они хорошо коррелируются, но для торгов совсем не подходят. Как ошибки вижу следующее:\n",
    "- маленький объем выборки, всего 1000+ дневных позиций, можно перейти на часовые отсечки, что существенно увеличит поле для обучения\n",
    "- полное отсутствие индикаторов тех анализа (различные скользящие средняя, и еще куча подобных), что при должном применении также могли внести положительный вклад в результат.\n",
    "- создание предсказания на длительный период (почти месяц), наверное следует анализировать лишь следующий рассматриваемый период к анализируемому, те в моем случае 1 день."
   ]
  },
  {
   "cell_type": "code",
   "execution_count": 1,
   "metadata": {},
   "outputs": [],
   "source": [
    "import pandas as pd\n",
    "import numpy as np\n",
    "from datetime import date\n",
    "from sklearn.preprocessing import MinMaxScaler\n",
    "from sklearn.model_selection import train_test_split\n",
    "from sklearn.cluster import KMeans\n",
    "import matplotlib.pyplot as plt\n",
    "import warnings\n",
    "warnings.filterwarnings('ignore')\n",
    "%matplotlib inline\n",
    "plt.style.use('fivethirtyeight')"
   ]
  },
  {
   "cell_type": "code",
   "execution_count": 3,
   "metadata": {},
   "outputs": [
    {
     "data": {
      "text/plain": [
       "Index(['Unnamed: 0', 'MOEX', 'DATE', 'PRICE_MOEX', 'VOL_MOEX', 'BRENT',\n",
       "       'PRICE_BRENT', 'VOL_BRENT', 'RTS', 'PRICE_RTS', 'VOL_RTS', 'USD',\n",
       "       'PRICE_USD', 'VOL_USD'],\n",
       "      dtype='object')"
      ]
     },
     "execution_count": 3,
     "metadata": {},
     "output_type": "execute_result"
    }
   ],
   "source": [
    "study_DB=pd.read_csv(r'data_to_work\\study.csv')\n",
    "study_DB.columns"
   ]
  },
  {
   "cell_type": "code",
   "execution_count": 4,
   "metadata": {},
   "outputs": [],
   "source": [
    "target=study_DB['PRICE_MOEX']\n",
    "features=study_DB[['PRICE_BRENT','VOL_BRENT', 'PRICE_USD', 'VOL_USD']]"
   ]
  },
  {
   "cell_type": "markdown",
   "metadata": {},
   "source": [
    "модель LR"
   ]
  },
  {
   "cell_type": "code",
   "execution_count": 5,
   "metadata": {},
   "outputs": [
    {
     "data": {
      "text/plain": [
       "LinearRegression(copy_X=True, fit_intercept=True, n_jobs=None,\n",
       "         normalize=False)"
      ]
     },
     "execution_count": 5,
     "metadata": {},
     "output_type": "execute_result"
    }
   ],
   "source": [
    "from sklearn.model_selection import train_test_split\n",
    "\n",
    "X_train,X_test,y_train,y_test=train_test_split(features,target,test_size=0.3, random_state=42)\n",
    "\n",
    "from sklearn.linear_model import LinearRegression as LR\n",
    "\n",
    "from sklearn.ensemble import RandomForestRegressor as RF\n",
    "\n",
    "model1=LR()\n",
    "\n",
    "model1.fit(X_train,y_train)"
   ]
  },
  {
   "cell_type": "code",
   "execution_count": 6,
   "metadata": {},
   "outputs": [
    {
     "data": {
      "text/plain": [
       "0.6210518506127733"
      ]
     },
     "execution_count": 6,
     "metadata": {},
     "output_type": "execute_result"
    }
   ],
   "source": [
    "y_pred = model1.predict(X_test)\n",
    "\n",
    "from sklearn.metrics import r2_score as r2, mean_squared_error as mse\n",
    "\n",
    "r2(y_test, y_pred)"
   ]
  },
  {
   "cell_type": "markdown",
   "metadata": {},
   "source": [
    "Model2 RF"
   ]
  },
  {
   "cell_type": "code",
   "execution_count": 7,
   "metadata": {},
   "outputs": [
    {
     "data": {
      "text/plain": [
       "0.8526479511711621"
      ]
     },
     "execution_count": 7,
     "metadata": {},
     "output_type": "execute_result"
    }
   ],
   "source": [
    "\n",
    "model2=RF(n_estimators=150, max_depth=15, min_samples_leaf=4) \n",
    "\n",
    "model2.fit(X_train,y_train)\n",
    "\n",
    "y_pred_2 = model2.predict(X_test)\n",
    "\n",
    "r2(y_test, y_pred_2)"
   ]
  },
  {
   "cell_type": "markdown",
   "metadata": {},
   "source": [
    "взял за основу вторую модель, так как результаты R2 довольно хорошие."
   ]
  },
  {
   "cell_type": "code",
   "execution_count": 8,
   "metadata": {},
   "outputs": [
    {
     "data": {
      "text/html": [
       "<div>\n",
       "<style scoped>\n",
       "    .dataframe tbody tr th:only-of-type {\n",
       "        vertical-align: middle;\n",
       "    }\n",
       "\n",
       "    .dataframe tbody tr th {\n",
       "        vertical-align: top;\n",
       "    }\n",
       "\n",
       "    .dataframe thead th {\n",
       "        text-align: right;\n",
       "    }\n",
       "</style>\n",
       "<table border=\"1\" class=\"dataframe\">\n",
       "  <thead>\n",
       "    <tr style=\"text-align: right;\">\n",
       "      <th></th>\n",
       "      <th>PRICE_MOEX</th>\n",
       "      <th>Predicted Price</th>\n",
       "    </tr>\n",
       "  </thead>\n",
       "  <tbody>\n",
       "    <tr>\n",
       "      <th>0</th>\n",
       "      <td>2729.42</td>\n",
       "      <td>2706.113082</td>\n",
       "    </tr>\n",
       "    <tr>\n",
       "      <th>1</th>\n",
       "      <td>2674.90</td>\n",
       "      <td>2424.243892</td>\n",
       "    </tr>\n",
       "    <tr>\n",
       "      <th>2</th>\n",
       "      <td>2649.16</td>\n",
       "      <td>2423.102130</td>\n",
       "    </tr>\n",
       "    <tr>\n",
       "      <th>3</th>\n",
       "      <td>2683.35</td>\n",
       "      <td>2146.645735</td>\n",
       "    </tr>\n",
       "    <tr>\n",
       "      <th>4</th>\n",
       "      <td>2674.98</td>\n",
       "      <td>2061.844880</td>\n",
       "    </tr>\n",
       "    <tr>\n",
       "      <th>5</th>\n",
       "      <td>2696.69</td>\n",
       "      <td>2076.753150</td>\n",
       "    </tr>\n",
       "    <tr>\n",
       "      <th>6</th>\n",
       "      <td>2679.71</td>\n",
       "      <td>2040.870787</td>\n",
       "    </tr>\n",
       "    <tr>\n",
       "      <th>7</th>\n",
       "      <td>2689.93</td>\n",
       "      <td>2023.011958</td>\n",
       "    </tr>\n",
       "    <tr>\n",
       "      <th>8</th>\n",
       "      <td>2680.12</td>\n",
       "      <td>2632.341975</td>\n",
       "    </tr>\n",
       "    <tr>\n",
       "      <th>9</th>\n",
       "      <td>2637.04</td>\n",
       "      <td>2175.878378</td>\n",
       "    </tr>\n",
       "    <tr>\n",
       "      <th>10</th>\n",
       "      <td>2625.58</td>\n",
       "      <td>1927.075309</td>\n",
       "    </tr>\n",
       "    <tr>\n",
       "      <th>11</th>\n",
       "      <td>2615.20</td>\n",
       "      <td>2045.029480</td>\n",
       "    </tr>\n",
       "    <tr>\n",
       "      <th>12</th>\n",
       "      <td>2648.09</td>\n",
       "      <td>2287.361925</td>\n",
       "    </tr>\n",
       "    <tr>\n",
       "      <th>13</th>\n",
       "      <td>2672.84</td>\n",
       "      <td>2393.809696</td>\n",
       "    </tr>\n",
       "    <tr>\n",
       "      <th>14</th>\n",
       "      <td>2673.95</td>\n",
       "      <td>2482.049281</td>\n",
       "    </tr>\n",
       "    <tr>\n",
       "      <th>15</th>\n",
       "      <td>2675.13</td>\n",
       "      <td>2383.759281</td>\n",
       "    </tr>\n",
       "    <tr>\n",
       "      <th>16</th>\n",
       "      <td>2660.74</td>\n",
       "      <td>2079.212427</td>\n",
       "    </tr>\n",
       "    <tr>\n",
       "      <th>17</th>\n",
       "      <td>2658.24</td>\n",
       "      <td>1962.111277</td>\n",
       "    </tr>\n",
       "    <tr>\n",
       "      <th>18</th>\n",
       "      <td>2659.35</td>\n",
       "      <td>2359.697884</td>\n",
       "    </tr>\n",
       "    <tr>\n",
       "      <th>19</th>\n",
       "      <td>2677.31</td>\n",
       "      <td>2374.887356</td>\n",
       "    </tr>\n",
       "  </tbody>\n",
       "</table>\n",
       "</div>"
      ],
      "text/plain": [
       "    PRICE_MOEX  Predicted Price\n",
       "0      2729.42      2706.113082\n",
       "1      2674.90      2424.243892\n",
       "2      2649.16      2423.102130\n",
       "3      2683.35      2146.645735\n",
       "4      2674.98      2061.844880\n",
       "5      2696.69      2076.753150\n",
       "6      2679.71      2040.870787\n",
       "7      2689.93      2023.011958\n",
       "8      2680.12      2632.341975\n",
       "9      2637.04      2175.878378\n",
       "10     2625.58      1927.075309\n",
       "11     2615.20      2045.029480\n",
       "12     2648.09      2287.361925\n",
       "13     2672.84      2393.809696\n",
       "14     2673.95      2482.049281\n",
       "15     2675.13      2383.759281\n",
       "16     2660.74      2079.212427\n",
       "17     2658.24      1962.111277\n",
       "18     2659.35      2359.697884\n",
       "19     2677.31      2374.887356"
      ]
     },
     "execution_count": 8,
     "metadata": {},
     "output_type": "execute_result"
    }
   ],
   "source": [
    "test=pd.read_csv(r'data_to_work\\target.csv')\n",
    "test.head()\n",
    "\n",
    "test.loc[:,['PRICE_BRENT', 'VOL_BRENT', 'PRICE_USD', 'VOL_USD']]\n",
    "\n",
    "y_pred_test= model2.predict(test. loc[:,['PRICE_BRENT', 'VOL_BRENT', 'PRICE_USD', 'VOL_USD']])\n",
    "\n",
    "result = pd.concat([test['PRICE_MOEX'],pd.Series(y_pred_test),], axis=1).rename(columns={0:'Predicted Price'})\n",
    "\n",
    "result"
   ]
  },
  {
   "cell_type": "code",
   "execution_count": null,
   "metadata": {},
   "outputs": [],
   "source": []
  }
 ],
 "metadata": {
  "kernelspec": {
   "display_name": "Python 3",
   "language": "python",
   "name": "python3"
  },
  "language_info": {
   "codemirror_mode": {
    "name": "ipython",
    "version": 3
   },
   "file_extension": ".py",
   "mimetype": "text/x-python",
   "name": "python",
   "nbconvert_exporter": "python",
   "pygments_lexer": "ipython3",
   "version": "3.7.3"
  }
 },
 "nbformat": 4,
 "nbformat_minor": 2
}
