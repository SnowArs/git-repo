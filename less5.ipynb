{
 "cells": [
  {
   "cell_type": "markdown",
   "metadata": {},
   "source": [
    "1/Известно, что генеральная совокупность распределена нормально\n",
    "со средним квадратическим отклонением, равным 16.\n",
    "Найти доверительный интервал для оценки математического ожидания a с надежностью 0.95,\n",
    "если выборочная средняя M = 80, а объем выборки n = 256."
   ]
  },
  {
   "cell_type": "code",
   "execution_count": 20,
   "metadata": {},
   "outputs": [
    {
     "name": "stdout",
     "output_type": "stream",
     "text": [
      "интервал=[ 78.04 81.96 ]\n"
     ]
    }
   ],
   "source": [
    "sigma=16\n",
    "M=80\n",
    "n=256\n",
    "alpha=0.05\n",
    "Z2 = M+(1.96*sigma/n**(1/2))\n",
    "Z1 = M-(1.96*sigma/n**(1/2))\n",
    "print('интервал=[',Z1,Z2,']')"
   ]
  },
  {
   "cell_type": "markdown",
   "metadata": {},
   "source": [
    "2/ В результате 10 независимых измерений некоторой величины X, выполненных с одинаковой точностью,\n",
    "получены опытные данные:\n",
    "6.9, 6.1, 6.2, 6.8, 7.5, 6.3, 6.4, 6.9, 6.7, 6.1\n",
    "Предполагая, что результаты измерений подчинены нормальному закону распределения вероятностей,\n",
    "оценить истинное значение величины X при помощи доверительного интервала, покрывающего это\n",
    "значение с доверительной вероятностью 0,95."
   ]
  },
  {
   "cell_type": "code",
   "execution_count": 9,
   "metadata": {},
   "outputs": [],
   "source": [
    "import numpy as np\n",
    "n=10\n",
    "data=np.array([6.9, 6.1, 6.2, 6.8, 7.5, 6.3, 6.4, 6.9, 6.7, 6.1])\n",
    "alpha =0.05\n",
    "sigma=np.std(data, ddof=1)\n",
    "M =data.mean()"
   ]
  },
  {
   "cell_type": "code",
   "execution_count": 21,
   "metadata": {},
   "outputs": [
    {
     "name": "stdout",
     "output_type": "stream",
     "text": [
      "интервал=[ 78.04 81.96 ]\n"
     ]
    }
   ],
   "source": [
    "Z2 = M+(1.96*sigma/n**(1/2))\n",
    "Z1 = M-(1.96*sigma/n**(1/2))\n",
    "print('интервал=[',Z1,Z2,']')"
   ]
  },
  {
   "cell_type": "markdown",
   "metadata": {},
   "source": [
    "3/Утверждается, что шарики для подшипников, изготовленные автоматическим станком, имеют средний диаметр 17 мм.\n",
    "Используя односторонний критерий с α=0,05, проверить эту гипотезу, если в выборке из n=100 шариков средний диаметр\n",
    "оказался равным 17.5 мм, а дисперсия известна и равна 4 кв. мм."
   ]
  },
  {
   "cell_type": "code",
   "execution_count": 12,
   "metadata": {},
   "outputs": [
    {
     "data": {
      "text/plain": [
       "2.5"
      ]
     },
     "execution_count": 12,
     "metadata": {},
     "output_type": "execute_result"
    }
   ],
   "source": [
    "#H0: диаметр -17мм, m=m0\n",
    "#H1: диаметр -17,5мм, m>m0\n",
    "M0=17\n",
    "M1=17.5\n",
    "n=100\n",
    "D_X = 4\n",
    "alpha = 0.05\n",
    "#применяем критерий Z тест\n",
    "Z_T = 1.645\n",
    "Z_H=(M1-M0)/(D_X**(1/2)/n**(1/2))\n",
    "Z_H"
   ]
  },
  {
   "cell_type": "markdown",
   "metadata": {},
   "source": [
    "верна гипотеза H1"
   ]
  },
  {
   "cell_type": "markdown",
   "metadata": {},
   "source": [
    "4/Продавец утверждает, что средний вес пачки печенья составляет 200 г.\n",
    "Из партии извлечена выборка из 10 пачек. Вес каждой пачки составляет:\n",
    "202, 203, 199, 197, 195, 201, 200, 204, 194, 190.\n",
    "Известно, что их веса распределены нормально.\n",
    "Верно ли утверждение продавца, если учитывать, что доверительная вероятность равна 99%?"
   ]
  },
  {
   "cell_type": "code",
   "execution_count": 17,
   "metadata": {},
   "outputs": [
    {
     "name": "stdout",
     "output_type": "stream",
     "text": [
      "4.453463071962462 198.5\n"
     ]
    }
   ],
   "source": [
    "import numpy as np\n",
    "M0=200\n",
    "n=10\n",
    "data=np.array([202, 203, 199, 197, 195, 201, 200, 204, 194, 190])\n",
    "alpha =0.01\n",
    "sigma=np.std(data, ddof=1)\n",
    "M1 =data.mean()\n",
    "print(sigma, M1)"
   ]
  },
  {
   "cell_type": "code",
   "execution_count": null,
   "metadata": {},
   "outputs": [],
   "source": [
    "#H0: вес 200г, m=m0\n",
    "#H1: вес не 200г , m>m0"
   ]
  },
  {
   "cell_type": "code",
   "execution_count": 18,
   "metadata": {},
   "outputs": [
    {
     "data": {
      "text/plain": [
       "-1.0651074037450896"
      ]
     },
     "execution_count": 18,
     "metadata": {},
     "output_type": "execute_result"
    }
   ],
   "source": [
    "Z_H=(M1-M0)/(sigma/n**(1/2))\n",
    "Z_H"
   ]
  },
  {
   "cell_type": "code",
   "execution_count": null,
   "metadata": {},
   "outputs": [],
   "source": [
    "#в этой задече не понял, надо альфу на 2 делить или нет. делаю для варианта, что не надо, хотя и для альфа/2 тоже будет работать! \n",
    "#смотрим Z_T по таблице, для альфы =0,01 и v=n-1, Z_T = 2.821 \n",
    "#так как |Z_H|=-1.065< Z_T = 2.821,  гипотеза продавца верная!!"
   ]
  }
 ],
 "metadata": {
  "kernelspec": {
   "display_name": "Python 3",
   "language": "python",
   "name": "python3"
  },
  "language_info": {
   "codemirror_mode": {
    "name": "ipython",
    "version": 3
   },
   "file_extension": ".py",
   "mimetype": "text/x-python",
   "name": "python",
   "nbconvert_exporter": "python",
   "pygments_lexer": "ipython3",
   "version": "3.7.3"
  }
 },
 "nbformat": 4,
 "nbformat_minor": 2
}
